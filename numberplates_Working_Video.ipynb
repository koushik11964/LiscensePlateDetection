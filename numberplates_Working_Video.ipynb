{
  "cells": [
    {
      "cell_type": "code",
      "execution_count": null,
      "metadata": {
        "id": "39d1c672"
      },
      "outputs": [],
      "source": [
        "import os\n",
        "from lxml import etree\n",
        "\n",
        "import pandas as pd\n",
        "import numpy as np\n",
        "import random as rnd\n",
        "\n",
        "# visualization\n",
        "import seaborn as sns\n",
        "import matplotlib.pyplot as plt\n",
        "%matplotlib inline\n",
        "\n",
        "import cv2\n",
        "import tensorflow as tf\n",
        "from sklearn.model_selection import train_test_split"
      ],
      "id": "39d1c672"
    },
    {
      "cell_type": "code",
      "execution_count": null,
      "metadata": {
        "colab": {
          "base_uri": "https://localhost:8080/"
        },
        "id": "x_4fokxQ1m-B",
        "outputId": "ba87304c-ff40-44ec-f1e3-2da49c617786"
      },
      "outputs": [
        {
          "output_type": "stream",
          "name": "stdout",
          "text": [
            "Drive already mounted at /content/drive; to attempt to forcibly remount, call drive.mount(\"/content/drive\", force_remount=True).\n"
          ]
        }
      ],
      "source": [
        "import os\n",
        "from google.colab import drive\n",
        "drive.mount(\"/content/drive\")\n"
      ],
      "id": "x_4fokxQ1m-B"
    },
    {
      "cell_type": "code",
      "execution_count": null,
      "metadata": {
        "id": "60908f73"
      },
      "outputs": [],
      "source": [
        "imfiles = []\n",
        "lbfiles = []\n",
        "dr =  '/content/drive/My Drive/CV/Project_Data/pngfiles/'\n",
        "drlb = '/content/drive/My Drive/CV/Project_Data/xmlfiles/'\n",
        "for file in os.listdir(dr):\n",
        "    imfiles.append(file)\n",
        "for file in os.listdir(drlb):\n",
        "    lbfiles.append(file)\n",
        "imfiles= sorted(imfiles)\n",
        "lbfiles = sorted(lbfiles)"
      ],
      "id": "60908f73"
    },
    {
      "cell_type": "code",
      "execution_count": null,
      "metadata": {
        "id": "XLP_YAqY1ufI",
        "colab": {
          "base_uri": "https://localhost:8080/"
        },
        "outputId": "2754fa8f-562a-4b2e-9eab-4539b59b340f"
      },
      "outputs": [
        {
          "output_type": "execute_result",
          "data": {
            "text/plain": [
              "['Cars0.png',\n",
              " 'Cars1.png',\n",
              " 'Cars10.png',\n",
              " 'Cars100.png',\n",
              " 'Cars101.png',\n",
              " 'Cars102.png',\n",
              " 'Cars103.png',\n",
              " 'Cars104.png',\n",
              " 'Cars105.png',\n",
              " 'Cars106.png',\n",
              " 'Cars107.png',\n",
              " 'Cars108.png',\n",
              " 'Cars109.png',\n",
              " 'Cars11.png',\n",
              " 'Cars110.png',\n",
              " 'Cars111.png',\n",
              " 'Cars112.png',\n",
              " 'Cars113.png',\n",
              " 'Cars114.png',\n",
              " 'Cars115.png',\n",
              " 'Cars116.png',\n",
              " 'Cars117.png',\n",
              " 'Cars118.png',\n",
              " 'Cars119.png',\n",
              " 'Cars12.png',\n",
              " 'Cars120.png',\n",
              " 'Cars121.png',\n",
              " 'Cars122.png',\n",
              " 'Cars123.png',\n",
              " 'Cars124.png',\n",
              " 'Cars125.png',\n",
              " 'Cars126.png',\n",
              " 'Cars127.png',\n",
              " 'Cars128.png',\n",
              " 'Cars129.png',\n",
              " 'Cars13.png',\n",
              " 'Cars130.png',\n",
              " 'Cars131.png',\n",
              " 'Cars132.png',\n",
              " 'Cars133.png',\n",
              " 'Cars134.png',\n",
              " 'Cars135.png',\n",
              " 'Cars136.png',\n",
              " 'Cars137.png',\n",
              " 'Cars138.png',\n",
              " 'Cars139.png',\n",
              " 'Cars14.png',\n",
              " 'Cars140.png',\n",
              " 'Cars141.png',\n",
              " 'Cars142.png',\n",
              " 'Cars143.png',\n",
              " 'Cars144.png',\n",
              " 'Cars145.png',\n",
              " 'Cars146.png',\n",
              " 'Cars147.png',\n",
              " 'Cars148.png',\n",
              " 'Cars149.png',\n",
              " 'Cars15.png',\n",
              " 'Cars150.png',\n",
              " 'Cars151.png',\n",
              " 'Cars152.png',\n",
              " 'Cars153.png',\n",
              " 'Cars154.png',\n",
              " 'Cars155.png',\n",
              " 'Cars156.png',\n",
              " 'Cars157.png',\n",
              " 'Cars158.png',\n",
              " 'Cars159.png',\n",
              " 'Cars160.png',\n",
              " 'Cars161.png',\n",
              " 'Cars162.png',\n",
              " 'Cars163.png',\n",
              " 'Cars164.png',\n",
              " 'Cars165.png',\n",
              " 'Cars166.png',\n",
              " 'Cars167.png',\n",
              " 'Cars168.png',\n",
              " 'Cars169.png',\n",
              " 'Cars170.png',\n",
              " 'Cars171.png',\n",
              " 'Cars172.png',\n",
              " 'Cars173.png',\n",
              " 'Cars174.png',\n",
              " 'Cars175.png',\n",
              " 'Cars176.png',\n",
              " 'Cars177.png',\n",
              " 'Cars178.png',\n",
              " 'Cars179.png',\n",
              " 'Cars180.png',\n",
              " 'Cars181.png',\n",
              " 'Cars182.png',\n",
              " 'Cars183.png',\n",
              " 'Cars184.png',\n",
              " 'Cars185.png',\n",
              " 'Cars186.png',\n",
              " 'Cars187.png',\n",
              " 'Cars188.png',\n",
              " 'Cars189.png',\n",
              " 'Cars190.png',\n",
              " 'Cars191.png',\n",
              " 'Cars192.png',\n",
              " 'Cars193.png',\n",
              " 'Cars194.png',\n",
              " 'Cars195.png',\n",
              " 'Cars196.png',\n",
              " 'Cars197.png',\n",
              " 'Cars198.png',\n",
              " 'Cars199.png',\n",
              " 'Cars200.png',\n",
              " 'Cars201.png',\n",
              " 'Cars202.png',\n",
              " 'Cars203.png',\n",
              " 'Cars204.png',\n",
              " 'Cars205.png',\n",
              " 'Cars206.png',\n",
              " 'Cars207.png',\n",
              " 'Cars208.png',\n",
              " 'Cars209.png',\n",
              " 'Cars21.png',\n",
              " 'Cars210.png',\n",
              " 'Cars211.png',\n",
              " 'Cars212.png',\n",
              " 'Cars213.png',\n",
              " 'Cars214.png',\n",
              " 'Cars215.png',\n",
              " 'Cars216.png',\n",
              " 'Cars217.png',\n",
              " 'Cars218.png',\n",
              " 'Cars219.png',\n",
              " 'Cars22.png',\n",
              " 'Cars220.png',\n",
              " 'Cars221.png',\n",
              " 'Cars222.png',\n",
              " 'Cars223.png',\n",
              " 'Cars224.png',\n",
              " 'Cars225.png',\n",
              " 'Cars226.png',\n",
              " 'Cars227.png',\n",
              " 'Cars228.png',\n",
              " 'Cars229.png',\n",
              " 'Cars23.png',\n",
              " 'Cars230.png',\n",
              " 'Cars231.png',\n",
              " 'Cars232.png',\n",
              " 'Cars233.png',\n",
              " 'Cars234.png',\n",
              " 'Cars235.png',\n",
              " 'Cars236.png',\n",
              " 'Cars237.png',\n",
              " 'Cars238.png',\n",
              " 'Cars239.png',\n",
              " 'Cars24.png',\n",
              " 'Cars240.png',\n",
              " 'Cars241.png',\n",
              " 'Cars242.png',\n",
              " 'Cars243.png',\n",
              " 'Cars244.png',\n",
              " 'Cars245.png',\n",
              " 'Cars246.png',\n",
              " 'Cars247.png',\n",
              " 'Cars248.png',\n",
              " 'Cars249.png',\n",
              " 'Cars25.png',\n",
              " 'Cars250.png',\n",
              " 'Cars251.png',\n",
              " 'Cars252.png',\n",
              " 'Cars253.png',\n",
              " 'Cars254.png',\n",
              " 'Cars255.png',\n",
              " 'Cars256.png',\n",
              " 'Cars257.png',\n",
              " 'Cars258.png',\n",
              " 'Cars259.png',\n",
              " 'Cars260.png',\n",
              " 'Cars261.png',\n",
              " 'Cars262.png',\n",
              " 'Cars263.png',\n",
              " 'Cars264.png',\n",
              " 'Cars265.png',\n",
              " 'Cars266.png',\n",
              " 'Cars267.png',\n",
              " 'Cars268.png',\n",
              " 'Cars269.png',\n",
              " 'Cars270.png',\n",
              " 'Cars271.png',\n",
              " 'Cars272.png',\n",
              " 'Cars273.png',\n",
              " 'Cars274.png',\n",
              " 'Cars275.png',\n",
              " 'Cars276.png',\n",
              " 'Cars277.png',\n",
              " 'Cars278.png',\n",
              " 'Cars279.png',\n",
              " 'Cars280.png',\n",
              " 'Cars281.png',\n",
              " 'Cars282.png',\n",
              " 'Cars283.png',\n",
              " 'Cars284.png',\n",
              " 'Cars285.png',\n",
              " 'Cars286.png',\n",
              " 'Cars287.png',\n",
              " 'Cars288.png',\n",
              " 'Cars289.png',\n",
              " 'Cars290.png',\n",
              " 'Cars291.png',\n",
              " 'Cars292.png',\n",
              " 'Cars293.png',\n",
              " 'Cars294.png',\n",
              " 'Cars295.png',\n",
              " 'Cars296.png',\n",
              " 'Cars297.png',\n",
              " 'Cars298.png',\n",
              " 'Cars299.png',\n",
              " 'Cars300.png',\n",
              " 'Cars301.png',\n",
              " 'Cars302.png',\n",
              " 'Cars303.png',\n",
              " 'Cars304.png',\n",
              " 'Cars305.png',\n",
              " 'Cars306.png',\n",
              " 'Cars307.png',\n",
              " 'Cars308.png',\n",
              " 'Cars309.png',\n",
              " 'Cars310.png',\n",
              " 'Cars311.png',\n",
              " 'Cars312.png',\n",
              " 'Cars313.png',\n",
              " 'Cars314.png',\n",
              " 'Cars315.png',\n",
              " 'Cars316.png',\n",
              " 'Cars317.png',\n",
              " 'Cars318.png',\n",
              " 'Cars319.png',\n",
              " 'Cars320.png',\n",
              " 'Cars321.png',\n",
              " 'Cars322.png',\n",
              " 'Cars323.png',\n",
              " 'Cars324.png',\n",
              " 'Cars325.png',\n",
              " 'Cars326.png',\n",
              " 'Cars327.png',\n",
              " 'Cars328.png',\n",
              " 'Cars329.png',\n",
              " 'Cars330.png',\n",
              " 'Cars331.png',\n",
              " 'Cars332.png',\n",
              " 'Cars333.png',\n",
              " 'Cars334.png',\n",
              " 'Cars335.png',\n",
              " 'Cars336.png',\n",
              " 'Cars337.png',\n",
              " 'Cars338.png',\n",
              " 'Cars339.png',\n",
              " 'Cars340.png',\n",
              " 'Cars341.png',\n",
              " 'Cars342.png',\n",
              " 'Cars343.png',\n",
              " 'Cars344.png',\n",
              " 'Cars345.png',\n",
              " 'Cars346.png',\n",
              " 'Cars347.png',\n",
              " 'Cars348.png',\n",
              " 'Cars349.png',\n",
              " 'Cars350.png',\n",
              " 'Cars351.png',\n",
              " 'Cars352.png',\n",
              " 'Cars353.png',\n",
              " 'Cars354.png',\n",
              " 'Cars355.png',\n",
              " 'Cars356.png',\n",
              " 'Cars357.png',\n",
              " 'Cars358.png',\n",
              " 'Cars359.png',\n",
              " 'Cars360.png',\n",
              " 'Cars361.png',\n",
              " 'Cars362.png',\n",
              " 'Cars363.png',\n",
              " 'Cars364.png',\n",
              " 'Cars365.png',\n",
              " 'Cars366.png',\n",
              " 'Cars367.png',\n",
              " 'Cars368.png',\n",
              " 'Cars369.png',\n",
              " 'Cars370.png',\n",
              " 'Cars371.png',\n",
              " 'Cars372.png',\n",
              " 'Cars373.png',\n",
              " 'Cars374.png',\n",
              " 'Cars375.png',\n",
              " 'Cars376.png',\n",
              " 'Cars377.png',\n",
              " 'Cars378.png',\n",
              " 'Cars379.png',\n",
              " 'Cars380.png',\n",
              " 'Cars381.png',\n",
              " 'Cars382.png',\n",
              " 'Cars383.png',\n",
              " 'Cars384.png',\n",
              " 'Cars385.png',\n",
              " 'Cars386.png',\n",
              " 'Cars387.png',\n",
              " 'Cars388.png',\n",
              " 'Cars389.png',\n",
              " 'Cars390.png',\n",
              " 'Cars391.png',\n",
              " 'Cars392.png',\n",
              " 'Cars393.png',\n",
              " 'Cars394.png',\n",
              " 'Cars395.png',\n",
              " 'Cars396.png',\n",
              " 'Cars397.png',\n",
              " 'Cars398.png',\n",
              " 'Cars399.png',\n",
              " 'Cars400.png',\n",
              " 'Cars401.png',\n",
              " 'Cars402.png',\n",
              " 'Cars403.png',\n",
              " 'Cars404.png',\n",
              " 'Cars405.png',\n",
              " 'Cars406.png',\n",
              " 'Cars407.png',\n",
              " 'Cars408.png',\n",
              " 'Cars409.png',\n",
              " 'Cars410.png',\n",
              " 'Cars411.png',\n",
              " 'Cars412.png',\n",
              " 'Cars413.png',\n",
              " 'Cars414.png',\n",
              " 'Cars415.png',\n",
              " 'Cars416.png',\n",
              " 'Cars417.png',\n",
              " 'Cars418.png',\n",
              " 'Cars419.png',\n",
              " 'Cars420.png',\n",
              " 'Cars421.png',\n",
              " 'Cars422.png',\n",
              " 'Cars423.png',\n",
              " 'Cars424.png',\n",
              " 'Cars425.png',\n",
              " 'Cars426.png',\n",
              " 'Cars427.png',\n",
              " 'Cars428.png',\n",
              " 'Cars429.png',\n",
              " 'Cars430.png',\n",
              " 'Cars431.png',\n",
              " 'Cars432.png']"
            ]
          },
          "metadata": {},
          "execution_count": 8
        }
      ],
      "source": [
        "imfiles"
      ],
      "id": "XLP_YAqY1ufI"
    },
    {
      "cell_type": "code",
      "execution_count": null,
      "metadata": {
        "id": "49e9e8ca"
      },
      "outputs": [],
      "source": [
        "images = []\n",
        "dr =  '/content/drive/My Drive/CV/Project_Data/pngfiles/'\n",
        "for file in imfiles:\n",
        "    img = cv2.imread(f'{dr}/{file}')\n",
        "    img = cv2.resize(img, (200,200))\n",
        "    #print(f'{dr}/{file}')\n",
        "    #print(np.array(img).shape)\n",
        "    images.append(np.array(img))"
      ],
      "id": "49e9e8ca"
    },
    {
      "cell_type": "code",
      "execution_count": null,
      "metadata": {
        "id": "158aafda"
      },
      "outputs": [],
      "source": [
        "import pdb\n",
        "labels = []\n",
        "dr = '/content/drive/My Drive/CV/Project_Data/xmlfiles/'\n",
        "for file in lbfiles:\n",
        "    tree = etree.parse(f'{dr}/{file}')\n",
        "    #pdb.set_trace()\n",
        "    width = int(tree.xpath(\"size\")[0].xpath(\"width\")[0].text)\n",
        "    #pdb.set_trace()\n",
        "    height = int(tree.xpath(\"size\")[0].xpath(\"height\")[0].text)\n",
        "    xmin = int(tree.xpath(\"object/bndbox\")[0].xpath(\"xmin\")[0].text)/(width/200)\n",
        "    ymin = int(tree.xpath(\"object/bndbox\")[0].xpath(\"ymin\")[0].text)/(height/200)\n",
        "    xmax = int(tree.xpath(\"object/bndbox\")[0].xpath(\"xmax\")[0].text)/(width/200)\n",
        "    ymax = int(tree.xpath(\"object/bndbox\")[0].xpath(\"ymax\")[0].text)/(height/200)\n",
        "    labels.append([int(xmax), int(ymax), int(xmin), int(ymin)])"
      ],
      "id": "158aafda"
    },
    {
      "cell_type": "code",
      "execution_count": null,
      "metadata": {
        "id": "YanAZJ-9SOlM"
      },
      "outputs": [],
      "source": [
        "labels[100]"
      ],
      "id": "YanAZJ-9SOlM"
    },
    {
      "cell_type": "code",
      "execution_count": null,
      "metadata": {
        "id": "4f6b9d5b"
      },
      "outputs": [],
      "source": [
        "plt.figure(figsize = (200,200))\n",
        "for i in range(50):\n",
        "    image = cv2.rectangle(images[i], (labels[i][0], labels[i][1]), (labels[i][2], labels[i][3]), (255, 0, 255))\n",
        "    plt.subplot(10, 5, i+1)\n",
        "    plt.axis('off')\n",
        "    plt.imshow(image)"
      ],
      "id": "4f6b9d5b"
    },
    {
      "cell_type": "code",
      "execution_count": null,
      "metadata": {
        "id": "65c08ba0"
      },
      "outputs": [],
      "source": [
        "images = np.asarray(images)\n",
        "labels = np.asarray(labels)\n",
        "images = images/255\n",
        "labels = labels/255"
      ],
      "id": "65c08ba0"
    },
    {
      "cell_type": "code",
      "execution_count": null,
      "metadata": {
        "id": "dbc4a1c8"
      },
      "outputs": [],
      "source": [
        "X_train, X_test, y_train, y_test = train_test_split(images, labels, test_size=0.2, random_state=0)\n",
        "X_train, X_validation, y_train, y_validation = train_test_split(X_train, y_train, test_size=0.1, random_state=0)"
      ],
      "id": "dbc4a1c8"
    },
    {
      "cell_type": "code",
      "execution_count": null,
      "metadata": {
        "id": "28eec8d1"
      },
      "outputs": [],
      "source": [
        "from keras.models import Sequential\n",
        "\n",
        "from keras.layers import Dense, Flatten\n",
        "\n",
        "from keras.applications.vgg16 import VGG16"
      ],
      "id": "28eec8d1"
    },
    {
      "cell_type": "code",
      "execution_count": null,
      "metadata": {
        "id": "97154d5d"
      },
      "outputs": [],
      "source": [
        "model = Sequential()\n",
        "model.add(VGG16(weights=\"imagenet\", include_top=False, input_shape=images[0].shape))\n",
        "model.add(Flatten())\n",
        "model.add(Dense(128, activation=\"relu\"))\n",
        "model.add(Dense(128, activation=\"relu\"))\n",
        "model.add(Dense(64, activation=\"relu\"))\n",
        "model.add(Dense(4, activation=\"sigmoid\"))\n",
        "\n",
        "model.layers[-6].trainable = False\n",
        "\n",
        "model.summary()"
      ],
      "id": "97154d5d"
    },
    {
      "cell_type": "code",
      "execution_count": null,
      "metadata": {
        "id": "2fdce4c6"
      },
      "outputs": [],
      "source": [
        "model.compile(loss='mean_squared_error', optimizer='adam', metrics=['accuracy'])"
      ],
      "id": "2fdce4c6"
    },
    {
      "cell_type": "code",
      "execution_count": null,
      "metadata": {
        "id": "982e5c8d"
      },
      "outputs": [],
      "source": [
        "tmodel = model.fit(X_train, y_train, validation_data = (X_validation, y_validation), epochs=10, batch_size=32, verbose=1)"
      ],
      "id": "982e5c8d"
    },
    {
      "cell_type": "code",
      "execution_count": null,
      "metadata": {
        "id": "93c8a8de"
      },
      "outputs": [],
      "source": [
        "model.save('cnn_vgg16.h5', overwrite=True) "
      ],
      "id": "93c8a8de"
    },
    {
      "cell_type": "code",
      "execution_count": null,
      "metadata": {
        "id": "2e2e07a4"
      },
      "outputs": [],
      "source": [
        "scores = model.evaluate(X_test, y_test, verbose=0)\n",
        "print(\"Score : %.2f%%\" % (scores[1]*100))"
      ],
      "id": "2e2e07a4"
    },
    {
      "cell_type": "code",
      "execution_count": null,
      "metadata": {
        "id": "63a7dc92"
      },
      "outputs": [],
      "source": [
        "y_cnn = model.predict(X_test)"
      ],
      "id": "63a7dc92"
    },
    {
      "cell_type": "code",
      "execution_count": null,
      "metadata": {
        "id": "89db89fc"
      },
      "outputs": [],
      "source": [
        "plt.figure(figsize=(20,40))\n",
        "for i in range(1,50) :\n",
        "    plt.subplot(10,5,i+1)\n",
        "    plt.axis('off')\n",
        "    y = y_cnn[i]*255\n",
        "    image = cv2.rectangle(X_test[i],(int(y[0]),int(y[1])),(int(y[2]),int(y[3])),(0, 255, 0))\n",
        "    plt.imshow(image)"
      ],
      "id": "89db89fc"
    },
    {
      "cell_type": "code",
      "execution_count": null,
      "metadata": {
        "id": "bad392bc",
        "colab": {
          "base_uri": "https://localhost:8080/"
        },
        "outputId": "e7d3f052-8571-4084-c53a-56a41b94bf76"
      },
      "outputs": [
        {
          "output_type": "execute_result",
          "data": {
            "text/plain": [
              "array([[0.5103192 , 0.49403167, 0.2826373 , 0.38132316]], dtype=float32)"
            ]
          },
          "metadata": {},
          "execution_count": 179
        }
      ],
      "source": [
        "img_test = cv2.imread('/content/drive/My Drive/CV/Project_Data/pngfiles/Cars1.png')\n",
        "img_test = cv2.resize(img_test, (200,200))\n",
        "img_test = img_test/255\n",
        "img_test = np.reshape(img_test, (1,200,200,3))\n",
        "y_test = model.predict(img_test)\n",
        "y_test"
      ],
      "id": "bad392bc"
    },
    {
      "cell_type": "code",
      "execution_count": null,
      "metadata": {
        "id": "751b69c8",
        "colab": {
          "base_uri": "https://localhost:8080/",
          "height": 373
        },
        "outputId": "0e9c3216-a111-45a7-9f6e-3b98dc2544f4"
      },
      "outputs": [
        {
          "output_type": "stream",
          "name": "stderr",
          "text": [
            "Clipping input data to the valid range for imshow with RGB data ([0..1] for floats or [0..255] for integers).\n"
          ]
        },
        {
          "output_type": "stream",
          "name": "stdout",
          "text": [
            "[[130.1314   125.97807   72.07251   97.237404]]\n",
            "(130.1314, 125.97807, 72.07251, 97.237404)\n",
            "130 125 72 97\n",
            "(130, 125)\n",
            "(72, 97)\n"
          ]
        },
        {
          "output_type": "display_data",
          "data": {
            "text/plain": [
              "<Figure size 432x288 with 1 Axes>"
            ],
            "image/png": "[encoded data removed]"
          },
          "metadata": {
            "needs_background": "light"
          }
        }
      ],
      "source": [
        "y_test = y_test*255\n",
        "print(y_test)\n",
        "\n",
        "(xmax,ymax,xmin,ymin) = (y_test[0][0],y_test[0][1],y_test[0][2],y_test[0][3])\n",
        "print((xmax,ymax,xmin,ymin))\n",
        "\n",
        "image = cv2.rectangle(img_test[0],(int(y_test[0][0]),int(y_test[0][1])),(int(y_test[0][2]),int(y_test[0][3])),(0, 255, 0))\n",
        "\n",
        "print(int(y_test[0][0]),int(y_test[0][1]),int(y_test[0][2]),int(y_test[0][3]))\n",
        "#print(image)\n",
        "#print(img_test[0])\n",
        "print((int(y_test[0][0]),int(y_test[0][1])))\n",
        "print((int(y_test[0][2]),int(y_test[0][3])))\n",
        "\n",
        "\n",
        "\n",
        "plt.imshow(image)\n",
        "plt.show()"
      ],
      "id": "751b69c8"
    },
    {
      "cell_type": "code",
      "source": [
        "##image[:,:,:]\n",
        "\n",
        "plt.imshow(img_test[0][int(ymin):int(ymax),int(xmin):int(xmax)])"
      ],
      "metadata": {
        "colab": {
          "base_uri": "https://localhost:8080/",
          "height": 246
        },
        "id": "lusjRG9StLfU",
        "outputId": "f17d9f27-7356-416a-85d0-362e368cec79"
      },
      "id": "lusjRG9StLfU",
      "execution_count": null,
      "outputs": [
        {
          "output_type": "stream",
          "name": "stderr",
          "text": [
            "Clipping input data to the valid range for imshow with RGB data ([0..1] for floats or [0..255] for integers).\n"
          ]
        },
        {
          "output_type": "execute_result",
          "data": {
            "text/plain": [
              "<matplotlib.image.AxesImage at 0x7f2801e1ce90>"
            ]
          },
          "metadata": {},
          "execution_count": 181
        },
        {
          "output_type": "display_data",
          "data": {
            "text/plain": [
              "<Figure size 432x288 with 1 Axes>"
            ],
            "image/png": "[encoded data removed]"
          },
          "metadata": {
            "needs_background": "light"
          }
        }
      ]
    },
    {
      "cell_type": "code",
      "source": [
        "plateROI=img_test[0][int(ymin):int(ymax),int(xmin):int(xmax)]"
      ],
      "metadata": {
        "id": "5PWiFrA1qArF"
      },
      "id": "5PWiFrA1qArF",
      "execution_count": null,
      "outputs": []
    },
    {
      "cell_type": "code",
      "source": [
        "plateROI = img_test[int(y_test[0][2]):int(y_test[0][0]),int(y_test[0][3]):int(y_test[0][1]),:]\n",
        "plateROI\n",
        "print(int(xmax), int(ymax), int(xmin), int(ymin))"
      ],
      "metadata": {
        "colab": {
          "base_uri": "https://localhost:8080/"
        },
        "id": "Mg-jzIDQKzPs",
        "outputId": "085c6b59-1cfb-4505-b22b-205a46c72ea1"
      },
      "id": "Mg-jzIDQKzPs",
      "execution_count": null,
      "outputs": [
        {
          "output_type": "stream",
          "name": "stdout",
          "text": [
            "83 189 40 172\n"
          ]
        }
      ]
    },
    {
      "cell_type": "code",
      "source": [
        "'''226</xmin            <ymin>125</ymin>\n",
        "            <xmax>419</xmax>\n",
        "            <ymax>173'''\n",
        "\n",
        "#img_test            \n",
        "#im= img_test[419:226,173:125]\n",
        "#plt.imshow(im)\n",
        "#plt.show()\n",
        "plateROI"
      ],
      "metadata": {
        "colab": {
          "base_uri": "https://localhost:8080/"
        },
        "id": "t4Fjz9i0KxgU",
        "outputId": "e19ad2c4-b4cb-4a20-c511-01a33bddbb1a"
      },
      "id": "t4Fjz9i0KxgU",
      "execution_count": null,
      "outputs": [
        {
          "output_type": "execute_result",
          "data": {
            "text/plain": [
              "array([], shape=(0, 33, 200, 3), dtype=float64)"
            ]
          },
          "metadata": {},
          "execution_count": 25
        }
      ]
    },
    {
      "cell_type": "code",
      "source": [
        "from PIL import Image as im"
      ],
      "metadata": {
        "id": "sNJaM9gcKf3Y"
      },
      "id": "sNJaM9gcKf3Y",
      "execution_count": null,
      "outputs": []
    },
    {
      "cell_type": "code",
      "source": [
        "data = im.fromarray(plateROI)"
      ],
      "metadata": {
        "colab": {
          "base_uri": "https://localhost:8080/",
          "height": 445
        },
        "id": "tSCfi56fKUaa",
        "outputId": "7fa1c0f0-8c10-4c31-e212-5cd0a1c45148"
      },
      "id": "tSCfi56fKUaa",
      "execution_count": null,
      "outputs": [
        {
          "output_type": "error",
          "ename": "TypeError",
          "evalue": "ignored",
          "traceback": [
            "\u001b[0;31m---------------------------------------------------------------------------\u001b[0m",
            "\u001b[0;31mKeyError\u001b[0m                                  Traceback (most recent call last)",
            "\u001b[0;32m/usr/local/lib/python3.7/dist-packages/PIL/Image.py\u001b[0m in \u001b[0;36mfromarray\u001b[0;34m(obj, mode)\u001b[0m\n\u001b[1;32m   2713\u001b[0m         \u001b[0;32mtry\u001b[0m\u001b[0;34m:\u001b[0m\u001b[0;34m\u001b[0m\u001b[0;34m\u001b[0m\u001b[0m\n\u001b[0;32m-> 2714\u001b[0;31m             \u001b[0mmode\u001b[0m\u001b[0;34m,\u001b[0m \u001b[0mrawmode\u001b[0m \u001b[0;34m=\u001b[0m \u001b[0m_fromarray_typemap\u001b[0m\u001b[0;34m[\u001b[0m\u001b[0mtypekey\u001b[0m\u001b[0;34m]\u001b[0m\u001b[0;34m\u001b[0m\u001b[0;34m\u001b[0m\u001b[0m\n\u001b[0m\u001b[1;32m   2715\u001b[0m         \u001b[0;32mexcept\u001b[0m \u001b[0mKeyError\u001b[0m\u001b[0;34m:\u001b[0m\u001b[0;34m\u001b[0m\u001b[0;34m\u001b[0m\u001b[0m\n",
            "\u001b[0;31mKeyError\u001b[0m: ((1, 1, 200, 3), '<f8')",
            "\nDuring handling of the above exception, another exception occurred:\n",
            "\u001b[0;31mTypeError\u001b[0m                                 Traceback (most recent call last)",
            "\u001b[0;32m<ipython-input-30-3ced926a8c4c>\u001b[0m in \u001b[0;36m<module>\u001b[0;34m()\u001b[0m\n\u001b[0;32m----> 1\u001b[0;31m \u001b[0mdata\u001b[0m \u001b[0;34m=\u001b[0m \u001b[0mim\u001b[0m\u001b[0;34m.\u001b[0m\u001b[0mfromarray\u001b[0m\u001b[0;34m(\u001b[0m\u001b[0mplateROI\u001b[0m\u001b[0;34m)\u001b[0m\u001b[0;34m\u001b[0m\u001b[0;34m\u001b[0m\u001b[0m\n\u001b[0m",
            "\u001b[0;32m/usr/local/lib/python3.7/dist-packages/PIL/Image.py\u001b[0m in \u001b[0;36mfromarray\u001b[0;34m(obj, mode)\u001b[0m\n\u001b[1;32m   2714\u001b[0m             \u001b[0mmode\u001b[0m\u001b[0;34m,\u001b[0m \u001b[0mrawmode\u001b[0m \u001b[0;34m=\u001b[0m \u001b[0m_fromarray_typemap\u001b[0m\u001b[0;34m[\u001b[0m\u001b[0mtypekey\u001b[0m\u001b[0;34m]\u001b[0m\u001b[0;34m\u001b[0m\u001b[0;34m\u001b[0m\u001b[0m\n\u001b[1;32m   2715\u001b[0m         \u001b[0;32mexcept\u001b[0m \u001b[0mKeyError\u001b[0m\u001b[0;34m:\u001b[0m\u001b[0;34m\u001b[0m\u001b[0;34m\u001b[0m\u001b[0m\n\u001b[0;32m-> 2716\u001b[0;31m             \u001b[0;32mraise\u001b[0m \u001b[0mTypeError\u001b[0m\u001b[0;34m(\u001b[0m\u001b[0;34m\"Cannot handle this data type: %s, %s\"\u001b[0m \u001b[0;34m%\u001b[0m \u001b[0mtypekey\u001b[0m\u001b[0;34m)\u001b[0m\u001b[0;34m\u001b[0m\u001b[0;34m\u001b[0m\u001b[0m\n\u001b[0m\u001b[1;32m   2717\u001b[0m     \u001b[0;32melse\u001b[0m\u001b[0;34m:\u001b[0m\u001b[0;34m\u001b[0m\u001b[0;34m\u001b[0m\u001b[0m\n\u001b[1;32m   2718\u001b[0m         \u001b[0mrawmode\u001b[0m \u001b[0;34m=\u001b[0m \u001b[0mmode\u001b[0m\u001b[0;34m\u001b[0m\u001b[0;34m\u001b[0m\u001b[0m\n",
            "\u001b[0;31mTypeError\u001b[0m: Cannot handle this data type: (1, 1, 200, 3), <f8"
          ]
        }
      ]
    },
    {
      "cell_type": "code",
      "source": [
        "import easyocr\n",
        "\n",
        "reader = easyocr.Reader(['en'])\n",
        "# detect text\n",
        "text = reader.readtext(plateROI)"
      ],
      "metadata": {
        "id": "nzPux8wdGPk4",
        "colab": {
          "base_uri": "https://localhost:8080/",
          "height": 503
        },
        "outputId": "e9a942c3-3915-4ab4-babe-28264c628adf"
      },
      "id": "nzPux8wdGPk4",
      "execution_count": null,
      "outputs": [
        {
          "output_type": "stream",
          "name": "stderr",
          "text": [
            "CUDA not available - defaulting to CPU. Note: This module is much faster with a GPU.\n",
            "Downloading detection model, please wait. This may take several minutes depending upon your network connection.\n"
          ]
        },
        {
          "output_type": "stream",
          "name": "stdout",
          "text": [
            ""
          ]
        },
        {
          "output_type": "stream",
          "name": "stderr",
          "text": [
            "Downloading recognition model, please wait. This may take several minutes depending upon your network connection.\n"
          ]
        },
        {
          "output_type": "stream",
          "name": "stdout",
          "text": [
            ""
          ]
        },
        {
          "output_type": "error",
          "ename": "error",
          "evalue": "ignored",
          "traceback": [
            "\u001b[0;31m---------------------------------------------------------------------------\u001b[0m",
            "\u001b[0;31merror\u001b[0m                                     Traceback (most recent call last)",
            "\u001b[0;32m<ipython-input-185-782e25095eb5>\u001b[0m in \u001b[0;36m<module>\u001b[0;34m()\u001b[0m\n\u001b[1;32m      3\u001b[0m \u001b[0mreader\u001b[0m \u001b[0;34m=\u001b[0m \u001b[0measyocr\u001b[0m\u001b[0;34m.\u001b[0m\u001b[0mReader\u001b[0m\u001b[0;34m(\u001b[0m\u001b[0;34m[\u001b[0m\u001b[0;34m'en'\u001b[0m\u001b[0;34m]\u001b[0m\u001b[0;34m)\u001b[0m\u001b[0;34m\u001b[0m\u001b[0;34m\u001b[0m\u001b[0m\n\u001b[1;32m      4\u001b[0m \u001b[0;31m# detect text\u001b[0m\u001b[0;34m\u001b[0m\u001b[0;34m\u001b[0m\u001b[0;34m\u001b[0m\u001b[0m\n\u001b[0;32m----> 5\u001b[0;31m \u001b[0mtext\u001b[0m \u001b[0;34m=\u001b[0m \u001b[0mreader\u001b[0m\u001b[0;34m.\u001b[0m\u001b[0mreadtext\u001b[0m\u001b[0;34m(\u001b[0m\u001b[0mplateROI\u001b[0m\u001b[0;34m)\u001b[0m\u001b[0;34m\u001b[0m\u001b[0;34m\u001b[0m\u001b[0m\n\u001b[0m",
            "\u001b[0;32m/usr/local/lib/python3.7/dist-packages/easyocr/easyocr.py\u001b[0m in \u001b[0;36mreadtext\u001b[0;34m(self, image, decoder, beamWidth, batch_size, workers, allowlist, blocklist, detail, rotation_info, paragraph, min_size, contrast_ths, adjust_contrast, filter_ths, text_threshold, low_text, link_threshold, canvas_size, mag_ratio, slope_ths, ycenter_ths, height_ths, width_ths, y_ths, x_ths, add_margin, output_format)\u001b[0m\n\u001b[1;32m    381\u001b[0m         \u001b[0mimage\u001b[0m\u001b[0;34m:\u001b[0m \u001b[0mfile\u001b[0m \u001b[0mpath\u001b[0m \u001b[0;32mor\u001b[0m \u001b[0mnumpy\u001b[0m\u001b[0;34m-\u001b[0m\u001b[0marray\u001b[0m \u001b[0;32mor\u001b[0m \u001b[0ma\u001b[0m \u001b[0mbyte\u001b[0m \u001b[0mstream\u001b[0m \u001b[0mobject\u001b[0m\u001b[0;34m\u001b[0m\u001b[0;34m\u001b[0m\u001b[0m\n\u001b[1;32m    382\u001b[0m         '''\n\u001b[0;32m--> 383\u001b[0;31m         \u001b[0mimg\u001b[0m\u001b[0;34m,\u001b[0m \u001b[0mimg_cv_grey\u001b[0m \u001b[0;34m=\u001b[0m \u001b[0mreformat_input\u001b[0m\u001b[0;34m(\u001b[0m\u001b[0mimage\u001b[0m\u001b[0;34m)\u001b[0m\u001b[0;34m\u001b[0m\u001b[0;34m\u001b[0m\u001b[0m\n\u001b[0m\u001b[1;32m    384\u001b[0m \u001b[0;34m\u001b[0m\u001b[0m\n\u001b[1;32m    385\u001b[0m         horizontal_list, free_list = self.detect(img, min_size, text_threshold,\\\n",
            "\u001b[0;32m/usr/local/lib/python3.7/dist-packages/easyocr/utils.py\u001b[0m in \u001b[0;36mreformat_input\u001b[0;34m(image)\u001b[0m\n\u001b[1;32m    713\u001b[0m         \u001b[0;32melif\u001b[0m \u001b[0mlen\u001b[0m\u001b[0;34m(\u001b[0m\u001b[0mimage\u001b[0m\u001b[0;34m.\u001b[0m\u001b[0mshape\u001b[0m\u001b[0;34m)\u001b[0m \u001b[0;34m==\u001b[0m \u001b[0;36m3\u001b[0m \u001b[0;32mand\u001b[0m \u001b[0mimage\u001b[0m\u001b[0;34m.\u001b[0m\u001b[0mshape\u001b[0m\u001b[0;34m[\u001b[0m\u001b[0;36m2\u001b[0m\u001b[0;34m]\u001b[0m \u001b[0;34m==\u001b[0m \u001b[0;36m3\u001b[0m\u001b[0;34m:\u001b[0m \u001b[0;31m# BGRscale\u001b[0m\u001b[0;34m\u001b[0m\u001b[0;34m\u001b[0m\u001b[0m\n\u001b[1;32m    714\u001b[0m             \u001b[0mimg\u001b[0m \u001b[0;34m=\u001b[0m \u001b[0mimage\u001b[0m\u001b[0;34m\u001b[0m\u001b[0;34m\u001b[0m\u001b[0m\n\u001b[0;32m--> 715\u001b[0;31m             \u001b[0mimg_cv_grey\u001b[0m \u001b[0;34m=\u001b[0m \u001b[0mcv2\u001b[0m\u001b[0;34m.\u001b[0m\u001b[0mcvtColor\u001b[0m\u001b[0;34m(\u001b[0m\u001b[0mimage\u001b[0m\u001b[0;34m,\u001b[0m \u001b[0mcv2\u001b[0m\u001b[0;34m.\u001b[0m\u001b[0mCOLOR_BGR2GRAY\u001b[0m\u001b[0;34m)\u001b[0m\u001b[0;34m\u001b[0m\u001b[0;34m\u001b[0m\u001b[0m\n\u001b[0m\u001b[1;32m    716\u001b[0m         \u001b[0;32melif\u001b[0m \u001b[0mlen\u001b[0m\u001b[0;34m(\u001b[0m\u001b[0mimage\u001b[0m\u001b[0;34m.\u001b[0m\u001b[0mshape\u001b[0m\u001b[0;34m)\u001b[0m \u001b[0;34m==\u001b[0m \u001b[0;36m3\u001b[0m \u001b[0;32mand\u001b[0m \u001b[0mimage\u001b[0m\u001b[0;34m.\u001b[0m\u001b[0mshape\u001b[0m\u001b[0;34m[\u001b[0m\u001b[0;36m2\u001b[0m\u001b[0;34m]\u001b[0m \u001b[0;34m==\u001b[0m \u001b[0;36m4\u001b[0m\u001b[0;34m:\u001b[0m \u001b[0;31m# RGBAscale\u001b[0m\u001b[0;34m\u001b[0m\u001b[0;34m\u001b[0m\u001b[0m\n\u001b[1;32m    717\u001b[0m             \u001b[0mimg\u001b[0m \u001b[0;34m=\u001b[0m \u001b[0mimage\u001b[0m\u001b[0;34m[\u001b[0m\u001b[0;34m:\u001b[0m\u001b[0;34m,\u001b[0m\u001b[0;34m:\u001b[0m\u001b[0;34m,\u001b[0m\u001b[0;34m:\u001b[0m\u001b[0;36m3\u001b[0m\u001b[0;34m]\u001b[0m\u001b[0;34m\u001b[0m\u001b[0;34m\u001b[0m\u001b[0m\n",
            "\u001b[0;31merror\u001b[0m: OpenCV(4.1.2) /io/opencv/modules/imgproc/src/color.simd_helpers.hpp:94: error: (-2:Unspecified error) in function 'cv::impl::{anonymous}::CvtHelper<VScn, VDcn, VDepth, sizePolicy>::CvtHelper(cv::InputArray, cv::OutputArray, int) [with VScn = cv::impl::{anonymous}::Set<3, 4>; VDcn = cv::impl::{anonymous}::Set<1>; VDepth = cv::impl::{anonymous}::Set<0, 2, 5>; cv::impl::{anonymous}::SizePolicy sizePolicy = (cv::impl::<unnamed>::SizePolicy)2u; cv::InputArray = const cv::_InputArray&; cv::OutputArray = const cv::_OutputArray&]'\n> Unsupported depth of input image:\n>     'VDepth::contains(depth)'\n> where\n>     'depth' is 6 (CV_64F)\n"
          ]
        }
      ]
    },
    {
      "cell_type": "code",
      "source": [
        "!pip install easyocr\n"
      ],
      "metadata": {
        "colab": {
          "base_uri": "https://localhost:8080/",
          "height": 590
        },
        "id": "jAbpJWf3qfAB",
        "outputId": "1e68b49f-5da3-457a-90d8-054484eeb07b"
      },
      "id": "jAbpJWf3qfAB",
      "execution_count": null,
      "outputs": [
        {
          "output_type": "stream",
          "name": "stdout",
          "text": [
            "Collecting easyocr\n",
            "  Downloading easyocr-1.4.1-py3-none-any.whl (63.6 MB)\n",
            "\u001b[K     |████████████████████████████████| 63.6 MB 62 kB/s \n",
            "\u001b[?25hRequirement already satisfied: PyYAML in /usr/local/lib/python3.7/dist-packages (from easyocr) (3.13)\n",
            "Requirement already satisfied: Pillow<8.3.0 in /usr/local/lib/python3.7/dist-packages (from easyocr) (7.1.2)\n",
            "Collecting python-bidi\n",
            "  Downloading python_bidi-0.4.2-py2.py3-none-any.whl (30 kB)\n",
            "Requirement already satisfied: torch in /usr/local/lib/python3.7/dist-packages (from easyocr) (1.10.0+cu111)\n",
            "Requirement already satisfied: numpy in /usr/local/lib/python3.7/dist-packages (from easyocr) (1.21.5)\n",
            "Collecting opencv-python-headless\n",
            "  Downloading opencv_python_headless-4.5.5.64-cp36-abi3-manylinux_2_17_x86_64.manylinux2014_x86_64.whl (47.8 MB)\n",
            "\u001b[K     |████████████████████████████████| 47.8 MB 41 kB/s \n",
            "\u001b[?25hRequirement already satisfied: torchvision>=0.5 in /usr/local/lib/python3.7/dist-packages (from easyocr) (0.11.1+cu111)\n",
            "Requirement already satisfied: scikit-image in /usr/local/lib/python3.7/dist-packages (from easyocr) (0.18.3)\n",
            "Requirement already satisfied: scipy in /usr/local/lib/python3.7/dist-packages (from easyocr) (1.4.1)\n",
            "Requirement already satisfied: typing-extensions in /usr/local/lib/python3.7/dist-packages (from torch->easyocr) (3.10.0.2)\n",
            "Requirement already satisfied: six in /usr/local/lib/python3.7/dist-packages (from python-bidi->easyocr) (1.15.0)\n",
            "Requirement already satisfied: tifffile>=2019.7.26 in /usr/local/lib/python3.7/dist-packages (from scikit-image->easyocr) (2021.11.2)\n",
            "Requirement already satisfied: PyWavelets>=1.1.1 in /usr/local/lib/python3.7/dist-packages (from scikit-image->easyocr) (1.3.0)\n",
            "Requirement already satisfied: networkx>=2.0 in /usr/local/lib/python3.7/dist-packages (from scikit-image->easyocr) (2.6.3)\n",
            "Requirement already satisfied: imageio>=2.3.0 in /usr/local/lib/python3.7/dist-packages (from scikit-image->easyocr) (2.4.1)\n",
            "Requirement already satisfied: matplotlib!=3.0.0,>=2.0.0 in /usr/local/lib/python3.7/dist-packages (from scikit-image->easyocr) (3.2.2)\n",
            "Requirement already satisfied: python-dateutil>=2.1 in /usr/local/lib/python3.7/dist-packages (from matplotlib!=3.0.0,>=2.0.0->scikit-image->easyocr) (2.8.2)\n",
            "Requirement already satisfied: cycler>=0.10 in /usr/local/lib/python3.7/dist-packages (from matplotlib!=3.0.0,>=2.0.0->scikit-image->easyocr) (0.11.0)\n",
            "Requirement already satisfied: kiwisolver>=1.0.1 in /usr/local/lib/python3.7/dist-packages (from matplotlib!=3.0.0,>=2.0.0->scikit-image->easyocr) (1.4.0)\n",
            "Requirement already satisfied: pyparsing!=2.0.4,!=2.1.2,!=2.1.6,>=2.0.1 in /usr/local/lib/python3.7/dist-packages (from matplotlib!=3.0.0,>=2.0.0->scikit-image->easyocr) (3.0.7)\n",
            "Installing collected packages: python-bidi, opencv-python-headless, easyocr\n",
            "Successfully installed easyocr-1.4.1 opencv-python-headless-4.5.5.64 python-bidi-0.4.2\n"
          ]
        },
        {
          "output_type": "display_data",
          "data": {
            "application/vnd.colab-display-data+json": {
              "pip_warning": {
                "packages": [
                  "cv2"
                ]
              }
            }
          },
          "metadata": {}
        }
      ]
    },
    {
      "cell_type": "code",
      "source": [
        "import pdb\n",
        "#video = cv2.VideoCapture('vid.mp4')\n",
        "\n",
        "if(video.isOpened()==False):\n",
        "    print('Error Reading Video')\n",
        "\n",
        "def getFrame(sec): \n",
        "    video.set(cv2.CAP_PROP_POS_MSEC,sec*1000) \n",
        "    hasFrames,frame = video.read() \n",
        "    #if hasFrames: \n",
        "    #cv2.imwrite(\"frame \"+str(sec)+\" sec.jpg\", image)     # save frame as JPG file \n",
        "    return hasFrames,frame \n",
        "sec = 0 \n",
        "frameRate = 0.5 #//it will capture image in each 0.5 second \n",
        "success = getFrame(sec) \n",
        "\n",
        "\n",
        "while success:\n",
        "    #video.set(cv2.CAP_PROP_POS_MSEC,sec*1000)\n",
        "    #ret,frame = video.read() \n",
        "    pdb.set_trace()\n",
        "    sec = sec + frameRate \n",
        "    sec = round(sec, 2) \n",
        "    success = getFrame(sec)\n",
        "   \n",
        "    frame = cv2.resize(frame, (200,200))\n",
        "    frame = frame/255\n",
        "    frame = np.reshape(frame, (1,200,200,3))\n",
        "    y_test = model.predict(frame)\n",
        "    y_test\n",
        "    pdb.set_trace()\n",
        "    y_test = y_test*255\n",
        "    print(y_test)\n",
        "\n",
        "    (xmax,ymax,xmin,ymin) = (y_test[0][0],y_test[0][1],y_test[0][2],y_test[0][3])\n",
        "\n",
        "\n",
        "    image = cv2.rectangle(frame[0],(int(y_test[0][0]),int(y_test[0][1])),(int(y_test[0][2]),int(y_test[0][3])),(0, 255, 0))\n",
        "\n",
        "\n",
        "    plt.imshow(image)\n",
        "    plt.show()\n",
        "    pdb.set_trace()\n",
        "    numberPlate_Image=image_test[0][int(ymin):int(ymax),int(xmin):int(xmax)]\n",
        "    pdb.set_trace()\n",
        "    numberPlate_Image= numberPlate_Image*255\n",
        "    imgcon = numberPlate_Image.astype(np.uint8)\n",
        "    pdb.set_trace()\n",
        "\n",
        "    text = reader.readtext(imgcon)\n",
        "    pdb.set_trace()\n",
        "    plates=[]\n",
        "\n",
        "    #plates.append(text[0][1])\n",
        "    #pdb.set_trace()\n",
        "\n",
        "\n",
        "\n",
        "\n",
        " \n",
        "        \n",
        "         \n",
        "    if hasFrames == True:\n",
        "        #pdb.set_trace()\n",
        "        pdb.set_trace()\n",
        "        if cv2.waitKey(1) & 0xFF == ord(\"q\"):\n",
        "            pdb.set_trace()\n",
        "\n",
        "            break\n",
        "    else:\n",
        "        break\n",
        "\n",
        "video.release()\n",
        "cv2.destroyAllWindows()   \n"
      ],
      "metadata": {
        "id": "irerNqx1xq5h"
      },
      "id": "irerNqx1xq5h",
      "execution_count": null,
      "outputs": []
    },
    {
      "cell_type": "code",
      "source": [
        "video = cv2.VideoCapture('Data/vid.mp4')\n",
        "\n",
        "if(video.isOpened()==False):\n",
        "    print('Error Reading Video')\n",
        "\n",
        "while True:\n",
        "    ret,frame = video.read()    \n",
        "    gray_video = cv2.cvtColor(frame, cv2.COLOR_BGR2GRAY)\n",
        "    plate = plat_detector.detectMultiScale(gray_video,scaleFactor=1.2,minNeighbors=5,minSize=(25,25))\n",
        "\n",
        "    for (x,y,w,h) in plate:\n",
        "        cv2.rectangle(frame, (x,y), (x+w,y+h), (255,0,0),2)\n",
        "        frame[y:y+h,x:x+w] = cv2.blur(frame[y:y+h,x:x+w],ksize=(10,10))\n",
        "        cv2.putText(frame,text='License Plate',org=(x-3,y-3),fontFace=cv2.FONT_HERSHEY_COMPLEX,color=(0,0,255),thickness=1,fontScale=0.6)\n",
        "        \n",
        "         \n",
        "    if ret == True:\n",
        "        cv2.imshow('Video', frame)\n",
        "\n",
        "        if cv2.waitKey(25) & 0xFF == ord(\"q\"):\n",
        "            break\n",
        "    else:\n",
        "        break\n",
        "\n",
        "video.release()\n",
        "cv2.destroyAllWindows()   "
      ],
      "metadata": {
        "id": "BVmuQYkZHH9Y"
      },
      "id": "BVmuQYkZHH9Y",
      "execution_count": null,
      "outputs": []
    }
  ],
  "metadata": {
    "colab": {
      "collapsed_sections": [],
      "name": "numberplates_Working_Video.ipynb",
      "provenance": []
    },
    "kernelspec": {
      "display_name": "Python 3",
      "language": "python",
      "name": "python3"
    },
    "language_info": {
      "codemirror_mode": {
        "name": "ipython",
        "version": 3
      },
      "file_extension": ".py",
      "mimetype": "text/x-python",
      "name": "python",
      "nbconvert_exporter": "python",
      "pygments_lexer": "ipython3",
      "version": "3.7.10"
    },
    "papermill": {
      "default_parameters": {},
      "duration": 87.776217,
      "end_time": "2021-08-14T21:35:36.212777",
      "environment_variables": {},
      "exception": null,
      "input_path": "__notebook__.ipynb",
      "output_path": "__notebook__.ipynb",
      "parameters": {},
      "start_time": "2021-08-14T21:34:08.436560",
      "version": "2.3.3"
    }
  },
  "nbformat": 4,
  "nbformat_minor": 5
}